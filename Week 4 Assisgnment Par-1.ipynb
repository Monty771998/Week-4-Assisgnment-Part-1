{
 "cells": [
  {
   "cell_type": "markdown",
   "id": "658e4f6e-4325-40b2-a4b6-3ee2f21ad666",
   "metadata": {},
   "source": [
    "Q1. Explain Class and Object with respect to Object-Oriented Programming. Give a suitable example."
   ]
  },
  {
   "cell_type": "code",
   "execution_count": null,
   "id": "b1d62180-aa38-403b-9b1d-48c58c9225c0",
   "metadata": {},
   "outputs": [],
   "source": [
    "Class is a blueprint or templates which defines the attributes and methods of class whereas Object is \n",
    "variable which is called to initilize the class "
   ]
  },
  {
   "cell_type": "code",
   "execution_count": 3,
   "id": "6d41d0f9-be78-4f62-8f0f-bc7e26fe9bc1",
   "metadata": {},
   "outputs": [],
   "source": [
    "class boy:\n",
    "    def __init__(self,age,height):\n",
    "        self.age = age\n",
    "        self.height = height\n",
    "    def studyhour(self,hour):\n",
    "        if hour >=4 :\n",
    "            return 'good boy'\n",
    "        else:\n",
    "            return 'bad boy'"
   ]
  },
  {
   "cell_type": "code",
   "execution_count": 7,
   "id": "49bb22ef-1efe-441b-98dc-0abd44eb7d47",
   "metadata": {},
   "outputs": [],
   "source": [
    "boy1 = boy(12,'170cm')"
   ]
  },
  {
   "cell_type": "code",
   "execution_count": 8,
   "id": "cac73ab3-955c-4bc3-bf37-2cc2878943f1",
   "metadata": {},
   "outputs": [
    {
     "data": {
      "text/plain": [
       "'bad boy'"
      ]
     },
     "execution_count": 8,
     "metadata": {},
     "output_type": "execute_result"
    }
   ],
   "source": [
    "boy1.studyhour(2)"
   ]
  },
  {
   "cell_type": "code",
   "execution_count": null,
   "id": "70bf62a3-62de-480e-a5b0-e6ab1a974d47",
   "metadata": {},
   "outputs": [],
   "source": [
    "here 'boy' is class and 'age' and 'height' is attributes while studyhour is method\n",
    "'boy1' is object "
   ]
  },
  {
   "cell_type": "code",
   "execution_count": null,
   "id": "ef90ca02-63d3-47f7-84ec-64e9249c6dc5",
   "metadata": {},
   "outputs": [],
   "source": []
  },
  {
   "cell_type": "markdown",
   "id": "59afd04c-64d3-4f5f-9e84-8a4f3f63477c",
   "metadata": {},
   "source": [
    "Q2. Name the four pillars of OOPs."
   ]
  },
  {
   "cell_type": "code",
   "execution_count": null,
   "id": "166fa622-0c99-432e-9cb7-3ccce5e1f4e2",
   "metadata": {},
   "outputs": [],
   "source": [
    "1.Inheritance\n",
    "2.Abstraction\n",
    "3.Encapsulation\n",
    "4.Polymorphism"
   ]
  },
  {
   "cell_type": "code",
   "execution_count": null,
   "id": "2cf4fd54-aca5-4d43-9696-3d96edad4a97",
   "metadata": {},
   "outputs": [],
   "source": []
  },
  {
   "cell_type": "markdown",
   "id": "559503b3-4eed-418d-b34a-87fa1fcaf50f",
   "metadata": {},
   "source": [
    "Q3. Explain why the __init__() function is used. Give a suitable example."
   ]
  },
  {
   "cell_type": "code",
   "execution_count": null,
   "id": "162bbda5-ba68-4b1f-9f7b-12e5d74ac472",
   "metadata": {},
   "outputs": [],
   "source": [
    "__init__() is constructor and it is automatically called when object is created of class.  self or any other \n",
    "keyword can be used to bind this method to class."
   ]
  },
  {
   "cell_type": "code",
   "execution_count": 9,
   "id": "1c18c6fe-8ac6-4fde-b8e6-4140cba3eded",
   "metadata": {},
   "outputs": [],
   "source": [
    "class study:\n",
    "    def __init__(self,subject,hour):\n",
    "        self.subject = subject\n",
    "        self.hour = hour\n",
    "    def result(self):\n",
    "        return 'pass'"
   ]
  },
  {
   "cell_type": "code",
   "execution_count": 10,
   "id": "d51db23d-6f5e-4d55-aa59-de0c0bde59d5",
   "metadata": {},
   "outputs": [],
   "source": [
    "st = study('english',4)"
   ]
  },
  {
   "cell_type": "code",
   "execution_count": 11,
   "id": "d7adfbe2-c26f-4647-989f-186b3f63e9e5",
   "metadata": {},
   "outputs": [
    {
     "data": {
      "text/plain": [
       "4"
      ]
     },
     "execution_count": 11,
     "metadata": {},
     "output_type": "execute_result"
    }
   ],
   "source": [
    "st.hour"
   ]
  },
  {
   "cell_type": "code",
   "execution_count": null,
   "id": "97da8fa4-991b-4f2d-959a-b96fdcfee399",
   "metadata": {},
   "outputs": [],
   "source": [
    "here when we created 'st' object of class __init__() method is automatically called \n",
    "and whenever we will create new object it will automatically called"
   ]
  },
  {
   "cell_type": "code",
   "execution_count": null,
   "id": "6d92c517-f6c8-4028-b735-ca52c2900ab6",
   "metadata": {},
   "outputs": [],
   "source": []
  },
  {
   "cell_type": "markdown",
   "id": "5da73fd4-a7af-4fc9-8475-893be1424795",
   "metadata": {},
   "source": [
    "Q4. Why self is used in OOPs?"
   ]
  },
  {
   "cell_type": "code",
   "execution_count": null,
   "id": "53121a4c-2772-4cb0-9651-1473611c74ce",
   "metadata": {},
   "outputs": [],
   "source": [
    "self is not a reserved keyword we can use any other word. Here self is used to bind method to class .\n",
    "Inside class we will have to use self in all method ."
   ]
  },
  {
   "cell_type": "code",
   "execution_count": null,
   "id": "4732b918-36c0-41ea-aea8-840be7d1a9cc",
   "metadata": {},
   "outputs": [],
   "source": []
  },
  {
   "cell_type": "markdown",
   "id": "a1829d69-0ee2-4a20-b856-133a6d22e03f",
   "metadata": {},
   "source": [
    "Q5. What is inheritance? Give an example for each type of inheritance."
   ]
  },
  {
   "cell_type": "code",
   "execution_count": null,
   "id": "5c9ee6cd-e129-44ca-b01b-661ee637fa15",
   "metadata": {},
   "outputs": [],
   "source": [
    "Inheritance allow one class to acquire all the properties and behaviours of another class\n",
    "types -\n",
    "1.Single inheritance (inherit all the properties and behaviours of one single class to another class)\n",
    "2.Multiple inheritance (inherit all the properties and behaviours of multiple class to one class) \n",
    "3.Multi-level inheritance (inherit all the properties and behaviours of one class to second class to another class)\n",
    "4.Hybrid inheritance (inherit all the properties and behaviours of multiple class to one class)\n",
    "5.Hierarchical inheritance (combination of two or more inheritance )"
   ]
  },
  {
   "cell_type": "code",
   "execution_count": null,
   "id": "e70045f9-fe2e-4a34-93f5-9c3a1fd935d1",
   "metadata": {},
   "outputs": [],
   "source": [
    "1.Single inheritance"
   ]
  },
  {
   "cell_type": "code",
   "execution_count": 2,
   "id": "57d2403f-72a5-47f0-909f-0382f0952338",
   "metadata": {},
   "outputs": [
    {
     "name": "stdout",
     "output_type": "stream",
     "text": [
      "hello sonu\n"
     ]
    }
   ],
   "source": [
    "class type:\n",
    "    def sonu(self):\n",
    "        print('hello sonu')\n",
    "        \n",
    "class type1(type):\n",
    "    pass\n",
    "ty1 = type1()\n",
    "ty1.sonu()"
   ]
  },
  {
   "cell_type": "code",
   "execution_count": null,
   "id": "46e98f28-982c-4d8a-9a9b-be9973f52f44",
   "metadata": {},
   "outputs": [],
   "source": []
  },
  {
   "cell_type": "markdown",
   "id": "410f9599-eedd-4849-ab5e-84ebc9dec299",
   "metadata": {},
   "source": [
    "2.Multiple inheritance"
   ]
  },
  {
   "cell_type": "code",
   "execution_count": 6,
   "id": "6ba0b3bb-3dfe-48e3-a073-75e00f093b8d",
   "metadata": {},
   "outputs": [
    {
     "name": "stdout",
     "output_type": "stream",
     "text": [
      "hello monu\n"
     ]
    }
   ],
   "source": [
    "class type:\n",
    "    def sonu(self):\n",
    "        print('hello sonu')\n",
    "        \n",
    "class type1:\n",
    "    def monu(self):\n",
    "        print('hello monu')\n",
    "        \n",
    "class type2(type,type1):\n",
    "    pass\n",
    "\n",
    "typ2 = type2()\n",
    "typ2.monu()"
   ]
  },
  {
   "cell_type": "code",
   "execution_count": null,
   "id": "657203d4-ac0c-4801-838a-5fee653dbc89",
   "metadata": {},
   "outputs": [],
   "source": []
  },
  {
   "cell_type": "code",
   "execution_count": null,
   "id": "c2d8abe0-f9fb-4e3c-8ddc-977fbf8f3022",
   "metadata": {},
   "outputs": [],
   "source": [
    "3.Multi-level inheritance"
   ]
  },
  {
   "cell_type": "code",
   "execution_count": 8,
   "id": "08d13cdf-d3c7-477e-bdb5-d1b06d45f33f",
   "metadata": {},
   "outputs": [
    {
     "name": "stdout",
     "output_type": "stream",
     "text": [
      "hello sonu\n",
      "hello monu\n"
     ]
    }
   ],
   "source": [
    "class type:\n",
    "    def sonu(self):\n",
    "        print('hello sonu')\n",
    "        \n",
    "class type1(type):\n",
    "    def monu(self):\n",
    "        print('hello monu')\n",
    "        \n",
    "class type2(type1):\n",
    "    pass \n",
    "\n",
    "ty= type2()\n",
    "ty.sonu()\n",
    "ty.monu()"
   ]
  },
  {
   "cell_type": "code",
   "execution_count": null,
   "id": "a87f483e-6bb5-4f22-9bb7-764a32263833",
   "metadata": {},
   "outputs": [],
   "source": []
  },
  {
   "cell_type": "code",
   "execution_count": null,
   "id": "cedbf062-53b7-4a78-af96-b54f66542f91",
   "metadata": {},
   "outputs": [],
   "source": [
    "4.Hybrid inheritance "
   ]
  },
  {
   "cell_type": "code",
   "execution_count": 9,
   "id": "bb79a489-32fb-40c8-a409-5522d99f9393",
   "metadata": {},
   "outputs": [
    {
     "name": "stdout",
     "output_type": "stream",
     "text": [
      "hello sonu\n",
      "hello sonu\n"
     ]
    }
   ],
   "source": [
    "class type:\n",
    "    def sonu(self):\n",
    "        print('hello sonu')\n",
    "        \n",
    "class type1(type):\n",
    "    pass\n",
    "        \n",
    "class type2(type):\n",
    "    pass\n",
    "\n",
    "tyyp1 = type1()\n",
    "tyyp2 = type2()\n",
    "tyyp1.sonu()\n",
    "tyyp2.sonu()"
   ]
  },
  {
   "cell_type": "code",
   "execution_count": null,
   "id": "d9209ec2-b7ed-41ab-8b57-6c23a4f86ea6",
   "metadata": {},
   "outputs": [],
   "source": []
  },
  {
   "cell_type": "code",
   "execution_count": null,
   "id": "953f980d-39d5-401f-8530-edd23c506663",
   "metadata": {},
   "outputs": [],
   "source": [
    "5.Hierarchical inheritance"
   ]
  },
  {
   "cell_type": "code",
   "execution_count": 10,
   "id": "d601358c-8d68-4c18-99ed-787e3255ba80",
   "metadata": {},
   "outputs": [
    {
     "name": "stdout",
     "output_type": "stream",
     "text": [
      "hello hero\n"
     ]
    }
   ],
   "source": [
    "class star:\n",
    "    def hero(self):\n",
    "        print('hello hero')\n",
    "        \n",
    "class type:\n",
    "    def sonu(self):\n",
    "        print('hello sonu')\n",
    "        \n",
    "class type1(type):\n",
    "    def monu(self):\n",
    "        print('hello monu')\n",
    "        \n",
    "class type2(type1,star):\n",
    "    pass\n",
    "\n",
    "t2 = type2()\n",
    "t2.hero()"
   ]
  },
  {
   "cell_type": "code",
   "execution_count": null,
   "id": "f05be4eb-c48b-4e86-b804-983b80e4e472",
   "metadata": {},
   "outputs": [],
   "source": []
  },
  {
   "cell_type": "code",
   "execution_count": null,
   "id": "0888d37d-cc7e-41c7-b926-ac6459cb5f93",
   "metadata": {},
   "outputs": [],
   "source": []
  },
  {
   "cell_type": "code",
   "execution_count": null,
   "id": "47dbb459-02dd-40ac-9364-3598cdf969f0",
   "metadata": {},
   "outputs": [],
   "source": []
  },
  {
   "cell_type": "code",
   "execution_count": null,
   "id": "b9124663-7aaf-4440-81dd-ab89a40cde63",
   "metadata": {},
   "outputs": [],
   "source": []
  },
  {
   "cell_type": "code",
   "execution_count": null,
   "id": "7e29c2cb-db50-4aae-8560-67459bf51609",
   "metadata": {},
   "outputs": [],
   "source": []
  }
 ],
 "metadata": {
  "kernelspec": {
   "display_name": "Python 3 (ipykernel)",
   "language": "python",
   "name": "python3"
  },
  "language_info": {
   "codemirror_mode": {
    "name": "ipython",
    "version": 3
   },
   "file_extension": ".py",
   "mimetype": "text/x-python",
   "name": "python",
   "nbconvert_exporter": "python",
   "pygments_lexer": "ipython3",
   "version": "3.10.8"
  }
 },
 "nbformat": 4,
 "nbformat_minor": 5
}
